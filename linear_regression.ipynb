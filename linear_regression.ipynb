{
 "cells": [
  {
   "cell_type": "code",
   "execution_count": 12,
   "id": "f631dad6",
   "metadata": {},
   "outputs": [],
   "source": [
    "import numpy as np\n",
    "data = [{'x':1,'y':17}, \n",
    "        {'x':2,'y':13}, \n",
    "        {'x':3,'y':22}, \n",
    "        {'x':4,'y':20},\n",
    "        {'x':5,'y':20},\n",
    "        {'x':6,'y':28},\n",
    "        {'x':7,'y':26},\n",
    "        {'x':8,'y':28},\n",
    "        {'x':9,'y':34},\n",
    "        {'x':10,'y':46},\n",
    "        {'x':11,'y':44}, \n",
    "        {'x':12,'y':47}, \n",
    "        {'x':13,'y':45}, \n",
    "        {'x':14,'y':54},\n",
    "        {'x':15,'y':55},\n",
    "        {'x':16,'y':60},\n",
    "        {'x':17,'y':58},\n",
    "        {'x':18,'y':61},\n",
    "        {'x':19,'y':64},\n",
    "        {'x':20,'y':70}\n",
    "       ]\n"
   ]
  },
  {
   "cell_type": "code",
   "execution_count": 2,
   "id": "65c2fb48",
   "metadata": {},
   "outputs": [],
   "source": [
    "x = [value['x'] for value in data]\n",
    "y = [value['y'] for value in data]"
   ]
  },
  {
   "cell_type": "code",
   "execution_count": 9,
   "id": "174948a4",
   "metadata": {},
   "outputs": [],
   "source": [
    "def get_mean(dataset): \n",
    "    return sum(dataset)/len(dataset)\n",
    "\n",
    "def get_mean_of_squared(dataset):\n",
    "    res = 0\n",
    "    for value in dataset:\n",
    "        res += value ** 2\n",
    "    return res/len(dataset)\n",
    "\n",
    "def get_mean_of_prod(x,y):\n",
    "    res = 0\n",
    "    for i in range(len(x)):\n",
    "        res += x[i]*y[i]\n",
    "    return res/len(x)"
   ]
  },
  {
   "cell_type": "code",
   "execution_count": 11,
   "id": "23414da7",
   "metadata": {},
   "outputs": [
    {
     "name": "stdout",
     "output_type": "stream",
     "text": [
      "x_mean: 10.5\n",
      "\n",
      "y_mean: 40.6\n",
      "\n",
      "x2_mean: 143.5\n",
      "\n",
      "xy_mean: 525.15\n",
      "\n"
     ]
    }
   ],
   "source": [
    "x_mean = get_mean(x)\n",
    "y_mean = get_mean(y)\n",
    "x2_mean = get_mean_of_squared(x)\n",
    "xy_mean = get_mean_of_prod(x,y)\n",
    "print(f'x_mean: {x_mean}\\n')\n",
    "print(f'y_mean: {y_mean}\\n')\n",
    "print(f'x2_mean: {x2_mean}\\n')\n",
    "print(f'xy_mean: {xy_mean}\\n')"
   ]
  },
  {
   "cell_type": "code",
   "execution_count": 18,
   "id": "03534fa1",
   "metadata": {},
   "outputs": [
    {
     "name": "stdout",
     "output_type": "stream",
     "text": [
      "y=f(x)=9.384210526315796+2.972932330827067x\n"
     ]
    }
   ],
   "source": [
    "A = np.array([[1,x_mean],[x_mean,x2_mean]])\n",
    "b = np.array([y_mean,xy_mean])\n",
    "solved = np.linalg.solve(A,b)\n",
    "print(f'y=f(x)={solved[0]}+{solved[1]}x')"
   ]
  },
  {
   "cell_type": "code",
   "execution_count": 21,
   "id": "60a29760",
   "metadata": {},
   "outputs": [],
   "source": [
    "def regression(x):\n",
    "    return 9.384210526315796+2.972932330827067*x\n",
    "\n",
    "def get_yp(dataset):\n",
    "    return [regression(x) for x in x]"
   ]
  },
  {
   "cell_type": "code",
   "execution_count": 24,
   "id": "e774fa94",
   "metadata": {},
   "outputs": [
    {
     "name": "stdout",
     "output_type": "stream",
     "text": [
      "y_p:\n",
      "[12.357142857142863, 15.33007518796993, 18.303007518796996, 21.275939849624066, 24.24887218045113, 27.2218045112782, 30.194736842105264, 33.167669172932335, 36.1406015037594, 39.11353383458647, 42.08646616541354, 45.059398496240604, 48.03233082706767, 51.00526315789474, 53.97819548872181, 56.95112781954887, 59.92406015037594, 62.89699248120301, 65.86992481203008, 68.84285714285714]\n"
     ]
    }
   ],
   "source": [
    "yp = get_yp(x)\n",
    "print('y_p:')\n",
    "print(yp)"
   ]
  },
  {
   "cell_type": "code",
   "execution_count": 26,
   "id": "55784a7b",
   "metadata": {},
   "outputs": [],
   "source": [
    "def get_squared(dataset):\n",
    "    dataset_mean =  get_mean(dataset)\n",
    "    res = 0\n",
    "    for value in dataset:\n",
    "        res += (value - dataset_mean) ** 2\n",
    "    return res\n",
    "\n",
    "def get_conditioned_regression(yp,y):\n",
    "    y_mean = get_mean(y)\n",
    "    res = 0\n",
    "    for value in yp:\n",
    "        res += (value - y_mean) ** 2\n",
    "    return res\n",
    "\n",
    "def get_sum_of_balances(yp,y):\n",
    "    res = 0\n",
    "    for i in range(len(yp)):\n",
    "        res += (y[i] - yp[i]) ** 2\n",
    "    return res\n"
   ]
  },
  {
   "cell_type": "code",
   "execution_count": 29,
   "id": "dba99d66",
   "metadata": {},
   "outputs": [],
   "source": [
    "squared = get_squared(y)\n",
    "conditioned_regression = get_conditioned_regression(yp,y)\n",
    "sum_of_balances = get_sum_of_balances(yp,y)"
   ]
  },
  {
   "cell_type": "code",
   "execution_count": 35,
   "id": "9e39d4fe",
   "metadata": {},
   "outputs": [],
   "source": [
    "F_observed = conditioned_regression / (sum_of_balances / 18)\n",
    "F_critical = 4.41\n",
    "#TODO"
   ]
  },
  {
   "cell_type": "code",
   "execution_count": null,
   "id": "8a453b7b",
   "metadata": {},
   "outputs": [],
   "source": []
  }
 ],
 "metadata": {
  "kernelspec": {
   "display_name": "Python 3 (ipykernel)",
   "language": "python",
   "name": "python3"
  },
  "language_info": {
   "codemirror_mode": {
    "name": "ipython",
    "version": 3
   },
   "file_extension": ".py",
   "mimetype": "text/x-python",
   "name": "python",
   "nbconvert_exporter": "python",
   "pygments_lexer": "ipython3",
   "version": "3.8.10"
  }
 },
 "nbformat": 4,
 "nbformat_minor": 5
}
