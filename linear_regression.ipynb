{
 "cells": [
  {
   "cell_type": "code",
   "execution_count": 1,
   "id": "f631dad6",
   "metadata": {},
   "outputs": [],
   "source": [
    "import numpy as np\n",
    "import scipy.stats\n",
    "data = [{'x':1,'y':17}, \n",
    "        {'x':2,'y':13}, \n",
    "        {'x':3,'y':22}, \n",
    "        {'x':4,'y':20},\n",
    "        {'x':5,'y':20},\n",
    "        {'x':6,'y':28},\n",
    "        {'x':7,'y':26},\n",
    "        {'x':8,'y':28},\n",
    "        {'x':9,'y':34},\n",
    "        {'x':10,'y':46},\n",
    "        {'x':11,'y':44}, \n",
    "        {'x':12,'y':47}, \n",
    "        {'x':13,'y':45}, \n",
    "        {'x':14,'y':54},\n",
    "        {'x':15,'y':55},\n",
    "        {'x':16,'y':60},\n",
    "        {'x':17,'y':58},\n",
    "        {'x':18,'y':61},\n",
    "        {'x':19,'y':64},\n",
    "        {'x':20,'y':70}\n",
    "       ]\n"
   ]
  },
  {
   "cell_type": "code",
   "execution_count": 2,
   "id": "65c2fb48",
   "metadata": {},
   "outputs": [],
   "source": [
    "x = [value['x'] for value in data]\n",
    "y = [value['y'] for value in data]"
   ]
  },
  {
   "cell_type": "code",
   "execution_count": 3,
   "id": "174948a4",
   "metadata": {},
   "outputs": [],
   "source": [
    "def get_mean(dataset): \n",
    "    return sum(dataset)/len(dataset)\n",
    "\n",
    "def get_mean_of_squared(dataset):\n",
    "    res = 0\n",
    "    for value in dataset:\n",
    "        res += value ** 2\n",
    "    return res/len(dataset)\n",
    "\n",
    "def get_mean_of_prod(x,y):\n",
    "    res = 0\n",
    "    for i in range(len(x)):\n",
    "        res += x[i]*y[i]\n",
    "    return res/len(x)"
   ]
  },
  {
   "cell_type": "code",
   "execution_count": 4,
   "id": "23414da7",
   "metadata": {},
   "outputs": [
    {
     "name": "stdout",
     "output_type": "stream",
     "text": [
      "x_mean: 10.5\n",
      "\n",
      "y_mean: 40.6\n",
      "\n",
      "x2_mean: 143.5\n",
      "\n",
      "xy_mean: 525.15\n",
      "\n"
     ]
    }
   ],
   "source": [
    "x_mean = get_mean(x)\n",
    "y_mean = get_mean(y)\n",
    "x2_mean = get_mean_of_squared(x)\n",
    "xy_mean = get_mean_of_prod(x,y)\n",
    "print(f'x_mean: {x_mean}\\n')\n",
    "print(f'y_mean: {y_mean}\\n')\n",
    "print(f'x2_mean: {x2_mean}\\n')\n",
    "print(f'xy_mean: {xy_mean}\\n')"
   ]
  },
  {
   "cell_type": "code",
   "execution_count": 22,
   "id": "03534fa1",
   "metadata": {},
   "outputs": [
    {
     "name": "stdout",
     "output_type": "stream",
     "text": [
      "y=f(x)=9.384210526315796+2.972932330827067x\n",
      "a_0: 9.384210526315796\n",
      "a_1: 2.972932330827067\n"
     ]
    }
   ],
   "source": [
    "A = np.array([[1,x_mean],[x_mean,x2_mean]])\n",
    "b = np.array([y_mean,xy_mean])\n",
    "solved = np.linalg.solve(A,b)\n",
    "print(f'y=f(x)={solved[0]}+{solved[1]}x')\n",
    "print(f'a_0: {solved[0]}')\n",
    "print(f'a_1: {solved[1]}')"
   ]
  },
  {
   "cell_type": "code",
   "execution_count": 6,
   "id": "60a29760",
   "metadata": {},
   "outputs": [],
   "source": [
    "def regression(x):\n",
    "    return 9.384210526315796+2.972932330827067*x\n",
    "\n",
    "def get_yp(dataset):\n",
    "    return [regression(x) for x in x]"
   ]
  },
  {
   "cell_type": "code",
   "execution_count": 7,
   "id": "e774fa94",
   "metadata": {},
   "outputs": [
    {
     "name": "stdout",
     "output_type": "stream",
     "text": [
      "y_p:\n",
      "[12.357142857142863, 15.33007518796993, 18.303007518796996, 21.275939849624066, 24.24887218045113, 27.2218045112782, 30.194736842105264, 33.167669172932335, 36.1406015037594, 39.11353383458647, 42.08646616541354, 45.059398496240604, 48.03233082706767, 51.00526315789474, 53.97819548872181, 56.95112781954887, 59.92406015037594, 62.89699248120301, 65.86992481203008, 68.84285714285714]\n"
     ]
    }
   ],
   "source": [
    "yp = get_yp(x)\n",
    "print('y_p:')\n",
    "print(yp)"
   ]
  },
  {
   "cell_type": "code",
   "execution_count": 8,
   "id": "55784a7b",
   "metadata": {},
   "outputs": [],
   "source": [
    "def get_squared(dataset):\n",
    "    dataset_mean =  get_mean(dataset)\n",
    "    res = 0\n",
    "    for value in dataset:\n",
    "        res += (value - dataset_mean) ** 2\n",
    "    return res\n",
    "\n",
    "def get_conditioned_regression(yp,y):\n",
    "    y_mean = get_mean(y)\n",
    "    res = 0\n",
    "    for value in yp:\n",
    "        res += (value - y_mean) ** 2\n",
    "    return res\n",
    "\n",
    "def get_sum_of_balances(yp,y):\n",
    "    res = 0\n",
    "    for i in range(len(yp)):\n",
    "        res += (y[i] - yp[i]) ** 2\n",
    "    return res\n"
   ]
  },
  {
   "cell_type": "code",
   "execution_count": 26,
   "id": "dba99d66",
   "metadata": {},
   "outputs": [
    {
     "name": "stdout",
     "output_type": "stream",
     "text": [
      "Общая вариация: 6082.8\n",
      "Остаток: 205.3127819548871\n",
      "Средний квадрат общей вариации: 320.14736842105265\n",
      "Средний квадрат регрессии: 5877.487218045112\n",
      "Средний квадрат остатка: 11.406265664160394\n"
     ]
    }
   ],
   "source": [
    "squared = get_squared(y)\n",
    "conditioned_regression = get_conditioned_regression(yp,y)\n",
    "sum_of_balances = get_sum_of_balances(yp,y)\n",
    "print(f'Общая вариация: {squared}')\n",
    "print(f'Остаток: {sum_of_balances}')\n",
    "print(f'Средний квадрат общей вариации: {squared/19}')\n",
    "print(f'Средний квадрат регрессии: {conditioned_regression}')\n",
    "print(f'Средний квадрат остатка: {sum_of_balances/18}')"
   ]
  },
  {
   "cell_type": "code",
   "execution_count": 25,
   "id": "9e39d4fe",
   "metadata": {},
   "outputs": [
    {
     "name": "stdout",
     "output_type": "stream",
     "text": [
      "F_observed: 515.2858429830154\n",
      "\n",
      "F_critical: 4.413873419170566\n",
      "\n",
      "Регрессия значима\n"
     ]
    }
   ],
   "source": [
    "F_observed = conditioned_regression / (sum_of_balances / 18)\n",
    "F_critical = scipy.stats.f.ppf(q=0.95, dfn=1, dfd=18)\n",
    "print(f'F_observed: {F_observed}\\n')\n",
    "print(f'F_critical: {F_critical}\\n')\n",
    "if F_observed > F_critical: \n",
    "    print(\"Регрессия значима\")\n",
    "else:\n",
    "    print(\"Регрессия незначима\")"
   ]
  },
  {
   "cell_type": "code",
   "execution_count": 18,
   "id": "8a453b7b",
   "metadata": {},
   "outputs": [],
   "source": [
    "def a1_variation(average_sum_of_balances,x,a1):\n",
    "    t_critical = scipy.stats.t.interval(0.975, len(x) - 2)[1]\n",
    "    x_mean = get_mean(x)\n",
    "    s = sum([(xi - x_mean) ** 2 for xi in x]) ** 0.5\n",
    "    return [a1-(t_critical * average_sum_of_balances ** 0.5)/s, a1+(t_critical * average_sum_of_balances ** 0.5)/s]\n",
    "\n",
    "def a0_variation(average_sum_of_balances,x,a0):\n",
    "    t_critical = scipy.stats.t.interval(0.975, len(x) - 2)[1]\n",
    "    x_mean = get_mean(x)\n",
    "    s1 = sum([xi**2 for xi in x])\n",
    "    s2 = len(x)*sum([(xi-x_mean)**2 for xi in x])\n",
    "    return [a0-t_critical * (s1/s2)**0.5 * average_sum_of_balances**0.5,a0+t_critical * (s1/s2)**0.5 * average_sum_of_balances**0.5]"
   ]
  },
  {
   "cell_type": "code",
   "execution_count": 19,
   "id": "114d799d",
   "metadata": {},
   "outputs": [],
   "source": [
    "[left_a0,right_a0] = a0_variation(sum_of_balances/18, x, solved[0])\n",
    "[left_a1,right_a1] = a1_variation(sum_of_balances/18, x, solved[1])"
   ]
  },
  {
   "cell_type": "code",
   "execution_count": 27,
   "id": "73f66619",
   "metadata": {},
   "outputs": [
    {
     "name": "stdout",
     "output_type": "stream",
     "text": [
      "Интервал для a_0: (5.548315353723675,13.220105698907917)\n",
      "Интервал для a_1: (2.652717988684656,3.2931466729694785)\n"
     ]
    }
   ],
   "source": [
    "print(f'Интервал для a_0: ({left_a0},{right_a0})')\n",
    "print(f'Интервал для a_1: ({left_a1},{right_a1})')"
   ]
  },
  {
   "cell_type": "code",
   "execution_count": null,
   "id": "49b68306",
   "metadata": {},
   "outputs": [],
   "source": []
  }
 ],
 "metadata": {
  "kernelspec": {
   "display_name": "Python 3 (ipykernel)",
   "language": "python",
   "name": "python3"
  },
  "language_info": {
   "codemirror_mode": {
    "name": "ipython",
    "version": 3
   },
   "file_extension": ".py",
   "mimetype": "text/x-python",
   "name": "python",
   "nbconvert_exporter": "python",
   "pygments_lexer": "ipython3",
   "version": "3.8.10"
  }
 },
 "nbformat": 4,
 "nbformat_minor": 5
}
